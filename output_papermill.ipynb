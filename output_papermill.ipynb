{
 "cells": [
  {
   "cell_type": "code",
   "execution_count": 1,
   "metadata": {
    "papermill": {
     "duration": 0.020175,
     "end_time": "2019-07-31T21:32:50.884727",
     "exception": false,
     "start_time": "2019-07-31T21:32:50.864552",
     "status": "completed"
    },
    "tags": [
     "parameters"
    ]
   },
   "outputs": [],
   "source": [
    "hello = 'world'"
   ]
  },
  {
   "cell_type": "code",
   "execution_count": 2,
   "metadata": {
    "papermill": {
     "duration": 0.015768,
     "end_time": "2019-07-31T21:32:50.906918",
     "exception": false,
     "start_time": "2019-07-31T21:32:50.891150",
     "status": "completed"
    },
    "tags": [
     "injected-parameters"
    ]
   },
   "outputs": [],
   "source": [
    "# Parameters\n",
    "hello = \"hello this is a key from a process\"\n"
   ]
  },
  {
   "cell_type": "code",
   "execution_count": 3,
   "metadata": {
    "papermill": {
     "duration": 0.013502,
     "end_time": "2019-07-31T21:32:50.925427",
     "exception": false,
     "start_time": "2019-07-31T21:32:50.911925",
     "status": "completed"
    },
    "tags": []
   },
   "outputs": [
    {
     "name": "stdout",
     "output_type": "stream",
     "text": [
      "hello this is a key from a process\n"
     ]
    }
   ],
   "source": [
    "print(hello)"
   ]
  },
  {
   "cell_type": "code",
   "execution_count": null,
   "metadata": {
    "papermill": {
     "duration": 0.003184,
     "end_time": "2019-07-31T21:32:50.932053",
     "exception": false,
     "start_time": "2019-07-31T21:32:50.928869",
     "status": "completed"
    },
    "tags": []
   },
   "outputs": [],
   "source": []
  }
 ],
 "metadata": {
  "celltoolbar": "Tags",
  "jupytext": {
   "formats": "ipynb,Rmd"
  },
  "kernelspec": {
   "display_name": "Python 3",
   "language": "python",
   "name": "python3"
  },
  "language_info": {
   "codemirror_mode": {
    "name": "ipython",
    "version": 3
   },
   "file_extension": ".py",
   "mimetype": "text/x-python",
   "name": "python",
   "nbconvert_exporter": "python",
   "pygments_lexer": "ipython3",
   "version": "3.7.4"
  },
  "papermill": {
   "duration": 1.349515,
   "end_time": "2019-07-31T21:32:51.252687",
   "environment_variables": {},
   "exception": null,
   "input_path": "input_papermill.ipynb",
   "output_path": "output_papermill.ipynb",
   "parameters": {
    "hello": "hello this is a key from a process"
   },
   "start_time": "2019-07-31T21:32:49.903172",
   "version": "1.0.1"
  }
 },
 "nbformat": 4,
 "nbformat_minor": 2
}