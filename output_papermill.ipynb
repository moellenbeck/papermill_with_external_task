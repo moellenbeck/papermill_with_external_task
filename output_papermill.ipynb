{
 "cells": [
  {
   "cell_type": "code",
   "execution_count": 1,
   "metadata": {
    "papermill": {
     "duration": 0.02197,
     "end_time": "2019-07-30T11:45:11.273935",
     "exception": false,
     "start_time": "2019-07-30T11:45:11.251965",
     "status": "completed"
    },
    "tags": [
     "parameters"
    ]
   },
   "outputs": [],
   "source": [
    "hello = 'world'"
   ]
  },
  {
   "cell_type": "code",
   "execution_count": 2,
   "metadata": {
    "papermill": {
     "duration": 0.013349,
     "end_time": "2019-07-30T11:45:11.293621",
     "exception": false,
     "start_time": "2019-07-30T11:45:11.280272",
     "status": "completed"
    },
    "tags": [
     "injected-parameters"
    ]
   },
   "outputs": [],
   "source": [
    "# Parameters\n",
    "hello = \"hello this is a key from a process\"\n"
   ]
  },
  {
   "cell_type": "code",
   "execution_count": 3,
   "metadata": {
    "papermill": {
     "duration": 0.012415,
     "end_time": "2019-07-30T11:45:11.309292",
     "exception": false,
     "start_time": "2019-07-30T11:45:11.296877",
     "status": "completed"
    },
    "tags": []
   },
   "outputs": [
    {
     "name": "stdout",
     "output_type": "stream",
     "text": [
      "hello this is a key from a process\n"
     ]
    }
   ],
   "source": [
    "print(hello)"
   ]
  },
  {
   "cell_type": "code",
   "execution_count": null,
   "metadata": {
    "papermill": {
     "duration": 0.003534,
     "end_time": "2019-07-30T11:45:11.316388",
     "exception": false,
     "start_time": "2019-07-30T11:45:11.312854",
     "status": "completed"
    },
    "tags": []
   },
   "outputs": [],
   "source": []
  }
 ],
 "metadata": {
  "celltoolbar": "Tags",
  "jupytext": {
   "formats": "ipynb,Rmd"
  },
  "kernelspec": {
   "display_name": "Python 3",
   "language": "python",
   "name": "python3"
  },
  "language_info": {
   "codemirror_mode": {
    "name": "ipython",
    "version": 3
   },
   "file_extension": ".py",
   "mimetype": "text/x-python",
   "name": "python",
   "nbconvert_exporter": "python",
   "pygments_lexer": "ipython3",
   "version": "3.7.4"
  },
  "papermill": {
   "duration": 1.394734,
   "end_time": "2019-07-30T11:45:11.633909",
   "environment_variables": {},
   "exception": null,
   "input_path": "input_papermill.ipynb",
   "output_path": "output_papermill.ipynb",
   "parameters": {
    "hello": "hello this is a key from a process"
   },
   "start_time": "2019-07-30T11:45:10.239175",
   "version": "1.0.1"
  }
 },
 "nbformat": 4,
 "nbformat_minor": 2
}