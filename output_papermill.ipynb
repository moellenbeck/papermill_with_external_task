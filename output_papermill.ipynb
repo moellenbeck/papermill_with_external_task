{
 "cells": [
  {
   "cell_type": "code",
   "execution_count": 1,
   "metadata": {
    "papermill": {
     "duration": 0.018723,
     "end_time": "2019-07-29T15:25:24.727544",
     "exception": false,
     "start_time": "2019-07-29T15:25:24.708821",
     "status": "completed"
    },
    "tags": [
     "parameters"
    ]
   },
   "outputs": [],
   "source": [
    "hello = 'world'"
   ]
  },
  {
   "cell_type": "code",
   "execution_count": 2,
   "metadata": {
    "papermill": {
     "duration": 0.012834,
     "end_time": "2019-07-29T15:25:24.744992",
     "exception": false,
     "start_time": "2019-07-29T15:25:24.732158",
     "status": "completed"
    },
    "tags": [
     "injected-parameters"
    ]
   },
   "outputs": [],
   "source": [
    "# Parameters\n",
    "hello = \"hello this is a key from a process\"\n"
   ]
  },
  {
   "cell_type": "code",
   "execution_count": 3,
   "metadata": {
    "papermill": {
     "duration": 0.015949,
     "end_time": "2019-07-29T15:25:24.764585",
     "exception": false,
     "start_time": "2019-07-29T15:25:24.748636",
     "status": "completed"
    },
    "tags": []
   },
   "outputs": [
    {
     "name": "stdout",
     "output_type": "stream",
     "text": [
      "hello this is a key from a process\n"
     ]
    }
   ],
   "source": [
    "print(hello)"
   ]
  },
  {
   "cell_type": "code",
   "execution_count": null,
   "metadata": {
    "papermill": {
     "duration": 0.003643,
     "end_time": "2019-07-29T15:25:24.772266",
     "exception": false,
     "start_time": "2019-07-29T15:25:24.768623",
     "status": "completed"
    },
    "tags": []
   },
   "outputs": [],
   "source": []
  }
 ],
 "metadata": {
  "celltoolbar": "Tags",
  "kernelspec": {
   "display_name": "Python 3",
   "language": "python",
   "name": "python3"
  },
  "language_info": {
   "codemirror_mode": {
    "name": "ipython",
    "version": 3
   },
   "file_extension": ".py",
   "mimetype": "text/x-python",
   "name": "python",
   "nbconvert_exporter": "python",
   "pygments_lexer": "ipython3",
   "version": "3.7.4"
  },
  "papermill": {
   "duration": 1.410833,
   "end_time": "2019-07-29T15:25:25.093439",
   "environment_variables": {},
   "exception": null,
   "input_path": "input_papermill.ipynb",
   "output_path": "output_papermill.ipynb",
   "parameters": {
    "hello": "hello this is a key from a process"
   },
   "start_time": "2019-07-29T15:25:23.682606",
   "version": "1.0.1"
  }
 },
 "nbformat": 4,
 "nbformat_minor": 2
}