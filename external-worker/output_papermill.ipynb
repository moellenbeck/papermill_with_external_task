{
 "cells": [
  {
   "cell_type": "code",
   "execution_count": 1,
   "metadata": {
    "papermill": {
     "duration": 0.022417,
     "end_time": "2019-08-04T14:27:22.974021",
     "exception": false,
     "start_time": "2019-08-04T14:27:22.951604",
     "status": "completed"
    },
    "tags": [
     "parameters"
    ]
   },
   "outputs": [],
   "source": [
    "year = '2020'"
   ]
  },
  {
   "cell_type": "code",
   "execution_count": 2,
   "metadata": {
    "papermill": {
     "duration": 0.013337,
     "end_time": "2019-08-04T14:27:22.993812",
     "exception": false,
     "start_time": "2019-08-04T14:27:22.980475",
     "status": "completed"
    },
    "tags": [
     "injected-parameters"
    ]
   },
   "outputs": [],
   "source": [
    "# Parameters\n",
    "year = \"2019\"\n"
   ]
  },
  {
   "cell_type": "code",
   "execution_count": 3,
   "metadata": {
    "papermill": {
     "duration": 0.098635,
     "end_time": "2019-08-04T14:27:23.097589",
     "exception": false,
     "start_time": "2019-08-04T14:27:22.998954",
     "status": "completed"
    },
    "tags": []
   },
   "outputs": [],
   "source": [
    "import datetime\n",
    "import json\n",
    "import requests\n",
    "import time\n",
    "import csv"
   ]
  },
  {
   "cell_type": "code",
   "execution_count": 4,
   "metadata": {
    "papermill": {
     "duration": 0.018696,
     "end_time": "2019-08-04T14:27:23.128020",
     "exception": false,
     "start_time": "2019-08-04T14:27:23.109324",
     "status": "completed"
    },
    "tags": []
   },
   "outputs": [],
   "source": [
    "def to_date(str_date):\n",
    "  the_date = datetime.datetime.strptime(str_date, \"%Y-%m-%d\")\n",
    "  return the_date.date()\n"
   ]
  },
  {
   "cell_type": "code",
   "execution_count": 5,
   "metadata": {
    "papermill": {
     "duration": 0.018921,
     "end_time": "2019-08-04T14:27:23.152388",
     "exception": false,
     "start_time": "2019-08-04T14:27:23.133467",
     "status": "completed"
    },
    "tags": []
   },
   "outputs": [],
   "source": [
    "url = \"https://feiertage-api.de/api/?jahr={year}\".format(year=year)\n",
    "federal_state = 'NW'"
   ]
  },
  {
   "cell_type": "code",
   "execution_count": 6,
   "metadata": {
    "papermill": {
     "duration": 2.361223,
     "end_time": "2019-08-04T14:27:25.520701",
     "exception": false,
     "start_time": "2019-08-04T14:27:23.159478",
     "status": "completed"
    },
    "tags": []
   },
   "outputs": [
    {
     "name": "stdout",
     "output_type": "stream",
     "text": [
      "{'Neujahrstag': '2019-01-01', 'Karfreitag': '2019-04-19', 'Ostermontag': '2019-04-22', 'Tag der Arbeit': '2019-05-01', 'Christi Himmelfahrt': '2019-05-30', 'Pfingstmontag': '2019-06-10', 'Fronleichnam': '2019-06-20', 'Tag der Deutschen Einheit': '2019-10-03', 'Allerheiligen': '2019-11-01', '1. Weihnachtstag': '2019-12-25', '2. Weihnachtstag': '2019-12-26'}\n"
     ]
    }
   ],
   "source": [
    "request_freedays = requests.get(url)\n",
    "\n",
    "str_data = request_freedays.content.decode(\"utf-8\")\n",
    "freedays = json.loads(str_data)[federal_state]\n",
    "\n",
    "freeday_dict = {freeday:str(to_date(freedays[freeday]['datum'])) for freeday in freedays}\n",
    "\n",
    "print(freeday_dict)"
   ]
  },
  {
   "cell_type": "code",
   "execution_count": 7,
   "metadata": {
    "papermill": {
     "duration": 0.017512,
     "end_time": "2019-08-04T14:27:25.545520",
     "exception": false,
     "start_time": "2019-08-04T14:27:25.528008",
     "status": "completed"
    },
    "tags": []
   },
   "outputs": [],
   "source": [
    "filename = \"freedays_{}.csv\".format(year)\n",
    "\n",
    "with open(filename, mode='w') as freeday_file:\n",
    "    writer = csv.writer(freeday_file, delimiter=',', quotechar='\"', quoting=csv.QUOTE_MINIMAL)\n",
    "\n",
    "    writer.writerow(['Name', 'Date'])\n",
    "    for freeday in freeday_dict.keys():\n",
    "        writer.writerow([freeday, freeday_dict[freeday]])"
   ]
  }
 ],
 "metadata": {
  "celltoolbar": "Tags",
  "jupytext": {
   "formats": "ipynb,Rmd"
  },
  "kernelspec": {
   "display_name": "Python 3",
   "language": "python",
   "name": "python3"
  },
  "language_info": {
   "codemirror_mode": {
    "name": "ipython",
    "version": 3
   },
   "file_extension": ".py",
   "mimetype": "text/x-python",
   "name": "python",
   "nbconvert_exporter": "python",
   "pygments_lexer": "ipython3",
   "version": "3.7.4"
  },
  "papermill": {
   "duration": 3.945241,
   "end_time": "2019-08-04T14:27:25.868138",
   "environment_variables": {},
   "exception": null,
   "input_path": "input_papermill.ipynb",
   "output_path": "output_papermill.ipynb",
   "parameters": {
    "year": "2019"
   },
   "start_time": "2019-08-04T14:27:21.922897",
   "version": "1.0.1"
  }
 },
 "nbformat": 4,
 "nbformat_minor": 2
}