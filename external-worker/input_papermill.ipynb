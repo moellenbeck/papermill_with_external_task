{
  "cells": [
    {
      "cell_type": "code",
      "source": [
        "year = '2021'"
      ],
      "outputs": [],
      "execution_count": 1,
      "metadata": {
        "tags": [
          "parameters"
        ]
      }
    },
    {
      "cell_type": "code",
      "source": [
        "import datetime\n",
        "import json\n",
        "import requests\n",
        "import time\n",
        "import csv"
      ],
      "outputs": [],
      "execution_count": 2,
      "metadata": {}
    },
    {
      "cell_type": "code",
      "source": [
        "def to_date(str_date):\n",
        "  the_date = datetime.datetime.strptime(str_date, \"%Y-%m-%d\")\n",
        "  return the_date.date()\n"
      ],
      "outputs": [],
      "execution_count": 3,
      "metadata": {}
    },
    {
      "cell_type": "code",
      "source": [
        "url = \"https://feiertage-api.de/api/?jahr={year}\".format(year=year)\n",
        "federal_state = 'NW'"
      ],
      "outputs": [],
      "execution_count": 4,
      "metadata": {}
    },
    {
      "cell_type": "code",
      "source": [
        "# placeholder for raise an error\n",
        "#print(xyz)"
      ],
      "outputs": [],
      "execution_count": null,
      "metadata": {}
    },
    {
      "cell_type": "code",
      "source": [
        "request_freedays = requests.get(url)\n",
        "\n",
        "str_data = request_freedays.content.decode(\"utf-8\")\n",
        "freedays = json.loads(str_data)[federal_state]\n",
        "\n",
        "freeday_dict = {freeday:str(to_date(freedays[freeday]['datum'])) for freeday in freedays}\n",
        "\n",
        "print(freeday_dict)"
      ],
      "outputs": [
        {
          "output_type": "stream",
          "name": "stdout",
          "text": [
            "{'Neujahrstag': '2020-01-01', 'Karfreitag': '2020-04-10', 'Ostermontag': '2020-04-13', 'Tag der Arbeit': '2020-05-01', 'Christi Himmelfahrt': '2020-05-21', 'Pfingstmontag': '2020-06-01', 'Fronleichnam': '2020-06-11', 'Tag der Deutschen Einheit': '2020-10-03', 'Allerheiligen': '2020-11-01', '1. Weihnachtstag': '2020-12-25', '2. Weihnachtstag': '2020-12-26'}\n"
          ]
        }
      ],
      "execution_count": 5,
      "metadata": {}
    },
    {
      "cell_type": "code",
      "source": [
        "filename = \"freedays_{}.csv\".format(year)\n",
        "\n",
        "with open(filename, mode='w') as freeday_file:\n",
        "    writer = csv.writer(freeday_file, delimiter=',', quotechar='\"', quoting=csv.QUOTE_MINIMAL)\n",
        "\n",
        "    writer.writerow(['Name', 'Date'])\n",
        "    for freeday in freeday_dict.keys():\n",
        "        writer.writerow([freeday, freeday_dict[freeday]])"
      ],
      "outputs": [],
      "execution_count": 6,
      "metadata": {}
    }
  ],
  "metadata": {
    "celltoolbar": "Tags",
    "jupytext": {
      "formats": "ipynb,Rmd"
    },
    "kernelspec": {
      "name": "python3",
      "language": "python",
      "display_name": "Python 3"
    },
    "language_info": {
      "name": "python",
      "version": "3.7.4",
      "mimetype": "text/x-python",
      "codemirror_mode": {
        "name": "ipython",
        "version": 3
      },
      "pygments_lexer": "ipython3",
      "nbconvert_exporter": "python",
      "file_extension": ".py"
    },
    "kernel_info": {
      "name": "python3"
    },
    "nteract": {
      "version": "0.14.5"
    }
  },
  "nbformat": 4,
  "nbformat_minor": 2
}