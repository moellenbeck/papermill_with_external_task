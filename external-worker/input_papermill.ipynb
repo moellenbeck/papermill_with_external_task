{
 "cells": [
  {
   "cell_type": "code",
   "execution_count": 1,
   "metadata": {
    "ExecuteTime": {
     "end_time": "2019-10-28T21:06:17.550888Z",
     "start_time": "2019-10-28T21:06:17.542747Z"
    },
    "tags": [
     "parameters"
    ]
   },
   "outputs": [],
   "source": [
    "year = '2021'"
   ]
  },
  {
   "cell_type": "code",
   "execution_count": 2,
   "metadata": {
    "ExecuteTime": {
     "end_time": "2019-10-28T21:06:17.750317Z",
     "start_time": "2019-10-28T21:06:17.558542Z"
    }
   },
   "outputs": [],
   "source": [
    "import datetime\n",
    "import json\n",
    "import requests\n",
    "import time\n",
    "import csv"
   ]
  },
  {
   "cell_type": "code",
   "execution_count": 3,
   "metadata": {
    "ExecuteTime": {
     "end_time": "2019-10-28T21:06:17.759953Z",
     "start_time": "2019-10-28T21:06:17.755264Z"
    }
   },
   "outputs": [],
   "source": [
    "def to_date(str_date):\n",
    "  the_date = datetime.datetime.strptime(str_date, \"%Y-%m-%d\")\n",
    "  return the_date.date()\n"
   ]
  },
  {
   "cell_type": "code",
   "execution_count": 4,
   "metadata": {
    "ExecuteTime": {
     "end_time": "2019-10-28T21:06:17.776068Z",
     "start_time": "2019-10-28T21:06:17.769882Z"
    }
   },
   "outputs": [],
   "source": [
    "url = \"https://feiertage-api.de/api/?jahr={year}\".format(year=year)\n",
    "federal_state = 'NW'"
   ]
  },
  {
   "cell_type": "code",
   "execution_count": 5,
   "metadata": {
    "ExecuteTime": {
     "end_time": "2019-10-28T21:06:17.795284Z",
     "start_time": "2019-10-28T21:06:17.786660Z"
    }
   },
   "outputs": [],
   "source": [
    "# placeholder for raise an error\n",
    "#print(xyz)"
   ]
  },
  {
   "cell_type": "code",
   "execution_count": 6,
   "metadata": {
    "ExecuteTime": {
     "end_time": "2019-10-28T21:06:18.223312Z",
     "start_time": "2019-10-28T21:06:17.810154Z"
    }
   },
   "outputs": [
    {
     "name": "stdout",
     "output_type": "stream",
     "text": [
      "{'Neujahrstag': '2021-01-01', 'Karfreitag': '2021-04-02', 'Ostermontag': '2021-04-05', 'Tag der Arbeit': '2021-05-01', 'Christi Himmelfahrt': '2021-05-13', 'Pfingstmontag': '2021-05-24', 'Fronleichnam': '2021-06-03', 'Tag der Deutschen Einheit': '2021-10-03', 'Allerheiligen': '2021-11-01', '1. Weihnachtstag': '2021-12-25', '2. Weihnachtstag': '2021-12-26'}\n"
     ]
    }
   ],
   "source": [
    "request_freedays = requests.get(url)\n",
    "\n",
    "str_data = request_freedays.content.decode(\"utf-8\")\n",
    "freedays = json.loads(str_data)[federal_state]\n",
    "\n",
    "freeday_dict = {freeday:str(to_date(freedays[freeday]['datum'])) for freeday in freedays}\n",
    "\n",
    "print(freeday_dict)"
   ]
  },
  {
   "cell_type": "code",
   "execution_count": 7,
   "metadata": {
    "ExecuteTime": {
     "end_time": "2019-10-28T21:06:18.240046Z",
     "start_time": "2019-10-28T21:06:18.231038Z"
    }
   },
   "outputs": [],
   "source": [
    "filename = \"freedays_{}.csv\".format(year)\n",
    "\n",
    "with open(filename, mode='w') as freeday_file:\n",
    "    writer = csv.writer(freeday_file, delimiter=',', quotechar='\"', quoting=csv.QUOTE_MINIMAL)\n",
    "\n",
    "    writer.writerow(['Name', 'Date'])\n",
    "    for freeday in freeday_dict.keys():\n",
    "        writer.writerow([freeday, freeday_dict[freeday]])"
   ]
  }
 ],
 "metadata": {
  "celltoolbar": "Tags",
  "jupytext": {
   "formats": "ipynb,Rmd"
  },
  "kernel_info": {
   "name": "python3"
  },
  "kernelspec": {
   "display_name": "Python 3",
   "language": "python",
   "name": "python3"
  },
  "language_info": {
   "codemirror_mode": {
    "name": "ipython",
    "version": 3
   },
   "file_extension": ".py",
   "mimetype": "text/x-python",
   "name": "python",
   "nbconvert_exporter": "python",
   "pygments_lexer": "ipython3",
   "version": "3.7.3"
  },
  "nteract": {
   "version": "0.14.5"
  },
  "toc": {
   "base_numbering": 1,
   "nav_menu": {},
   "number_sections": true,
   "sideBar": true,
   "skip_h1_title": false,
   "title_cell": "Table of Contents",
   "title_sidebar": "Contents",
   "toc_cell": false,
   "toc_position": {},
   "toc_section_display": true,
   "toc_window_display": false
  }
 },
 "nbformat": 4,
 "nbformat_minor": 2
}
